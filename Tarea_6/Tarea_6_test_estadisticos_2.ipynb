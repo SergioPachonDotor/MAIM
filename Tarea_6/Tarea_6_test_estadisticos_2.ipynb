{
 "cells": [
  {
   "cell_type": "code",
   "execution_count": 44,
   "metadata": {},
   "outputs": [],
   "source": [
    "import numpy as np\n",
    "import pandas as pd\n",
    "import matplotlib.pyplot as plt\n",
    "import scipy.stats as stats\n",
    "from sklearn import preprocessing\n",
    "from sklearn.preprocessing import StandardScaler\n",
    "import seaborn as sns\n",
    "import statistics as stat"
   ]
  },
  {
   "cell_type": "markdown",
   "metadata": {},
   "source": [
    "Datos"
   ]
  },
  {
   "cell_type": "code",
   "execution_count": 45,
   "metadata": {},
   "outputs": [],
   "source": [
    "medios = [\"OF\", \"IF\", \"IF\", \"OF\", \"IF\", \"IF\", \"OF\", \"OF\", \"IF\", \"IF\", \"OF\",\n",
    "            \"OF\", \"IF\", \"OF\", \"IF\", \"IF\", \"IF\", \"OF\", \"IF\", \"OF\", \"IF\", \"OF\",\n",
    "            \"IF\", \"OF\", \"IF\", \"DH\", \"IF\", \"IF\", \"IF\", \"OF\", \"IF\", \"IF\", \"IF\",\n",
    "            \"IF\", \"OF\", \"IF\", \"OF\", \"IF\", \"IF\", \"IF\", \"IF\", \"OF\", \"OF\", \"IF\",\n",
    "            \"OF\", \"OF\", \"IF\", \"IF\", \"OF\", \"OF\", \"IF\", \"OF\", \"OF\", \"OF\", \"IF\",\n",
    "            \"DH\", \"OF\", \"OF\", \"OF\", \"IF\", \"IF\", \"IF\", \"IF\", \"OF\", \"IF\", \"IF\",\n",
    "            \"OF\", \"IF\", \"IF\", \"IF\", \"OF\", \"IF\", \"IF\", \"OF\", \"IF\", \"IF\", \"IF\",\n",
    "            \"IF\", \"IF\", \"IF\", \"OF\", \"DH\", \"OF\", \"OF\", \"IF\", \"IF\", \"IF\", \"OF\",\n",
    "            \"IF\", \"OF\", \"IF\", \"IF\", \"IF\", \"IF\", \"OF\", \"OF\", \"OF\", \"DH\", \"OF\",\n",
    "            \"IF\", \"IF\", \"OF\", \"OF\", \"C\", \"IF\", \"OF\", \"OF\", \"IF\", \"OF\", \"IF\",\n",
    "            \"IF\", \"IF\", \"OF\", \"C\", \"OF\", \"IF\", \"C\", \"OF\", \"IF\", \"DH\", \"C\", \"OF\",\n",
    "            \"OF\", \"IF\", \"C\", \"IF\", \"IF\", \"IF\", \"IF\", \"IF\", \"IF\", \"OF\", \"C\", \"IF\",\n",
    "            \"OF\", \"OF\", \"IF\", \"OF\", \"IF\", \"OF\", \"DH\", \"C\", \"IF\", \"OF\", \"IF\",\n",
    "            \"IF\", \"OF\", \"IF\", \"OF\", \"IF\", \"C\", \"IF\", \"IF\", \"OF\", \"IF\", \"IF\",\n",
    "            \"IF\", \"OF\", \"OF\", \"OF\", \"IF\", \"IF\", \"C\", \"IF\", \"C\", \"C\", \"OF\", \"OF\",\n",
    "            \"OF\", \"IF\", \"OF\", \"IF\", \"C\", \"DH\", \"DH\", \"C\", \"OF\", \"IF\", \"OF\", \"IF\",\n",
    "            \"IF\", \"IF\", \"C\", \"IF\", \"OF\", \"DH\", \"IF\", \"IF\", \"IF\", \"OF\", \"OF\", \"C\",\n",
    "            \"OF\", \"OF\", \"IF\", \"IF\", \"OF\", \"OF\", \"OF\", \"OF\", \"OF\", \"OF\", \"IF\",\n",
    "            \"IF\", \"DH\", \"OF\", \"IF\", \"IF\", \"OF\", \"IF\", \"IF\", \"IF\", \"IF\", \"OF\",\n",
    "            \"IF\", \"C\", \"IF\", \"IF\", \"C\", \"IF\", \"OF\", \"IF\", \"DH\", \"C\", \"OF\", \"C\",\n",
    "            \"IF\", \"IF\", \"OF\", \"C\", \"IF\", \"IF\", \"IF\", \"C\", \"C\", \"C\", \"OF\", \"OF\",\n",
    "            \"IF\", \"IF\", \"IF\", \"IF\", \"OF\", \"OF\", \"C\", \"IF\", \"IF\", \"OF\", \"C\", \"OF\",\n",
    "            \"OF\", \"OF\", \"OF\", \"OF\", \"OF\", \"OF\", \"OF\", \"OF\", \"OF\", \"OF\", \"C\",\n",
    "            \"IF\", \"DH\", \"IF\", \"C\", \"DH\", \"C\", \"IF\", \"C\", \"OF\", \"C\", \"C\", \"IF\",\n",
    "            \"OF\", \"IF\", \"IF\", \"IF\", \"IF\", \"IF\", \"IF\", \"IF\", \"IF\", \"OF\", \"OF\",\n",
    "            \"OF\", \"IF\", \"OF\", \"OF\", \"IF\", \"IF\", \"IF\", \"OF\", \"C\", \"IF\", \"IF\",\n",
    "            \"IF\", \"IF\", \"OF\", \"OF\", \"IF\", \"OF\", \"IF\", \"OF\", \"OF\", \"OF\", \"IF\",\n",
    "            \"OF\", \"OF\", \"IF\", \"OF\", \"IF\", \"C\", \"IF\", \"IF\", \"C\", \"DH\", \"OF\", \"IF\",\n",
    "            \"C\", \"C\", \"IF\", \"C\", \"IF\", \"OF\", \"C\", \"C\", \"OF\"]\n",
    "\n",
    "crecimiento = [0.359, 0.34, 0.33, 0.341, 0.366, 0.333, 0.37, 0.331, 0.381, 0.332,\n",
    "         0.365, 0.345, 0.313, 0.325, 0.327, 0.337, 0.336, 0.291, 0.34, 0.31,\n",
    "         0.365, 0.356, 0.35, 0.39, 0.388, 0.345, 0.27, 0.306, 0.393, 0.331,\n",
    "         0.365, 0.369, 0.342, 0.329, 0.376, 0.414, 0.327, 0.354, 0.321, 0.37,\n",
    "         0.313, 0.341, 0.325, 0.312, 0.346, 0.34, 0.401, 0.372, 0.352, 0.354,\n",
    "         0.341, 0.365, 0.333, 0.378, 0.385, 0.287, 0.303, 0.334, 0.359, 0.352,\n",
    "         0.321, 0.323, 0.302, 0.349, 0.32, 0.356, 0.34, 0.393, 0.288, 0.339,\n",
    "         0.388, 0.283, 0.311, 0.401, 0.353, 0.42, 0.393, 0.347, 0.424, 0.378,\n",
    "         0.346, 0.355, 0.322, 0.341, 0.306, 0.329, 0.271, 0.32, 0.308, 0.322,\n",
    "         0.388, 0.351, 0.341, 0.31, 0.393, 0.411, 0.323, 0.37, 0.364, 0.321,\n",
    "         0.351, 0.329, 0.327, 0.402, 0.32, 0.353, 0.319, 0.319, 0.343, 0.288,\n",
    "         0.32, 0.338, 0.322, 0.303, 0.356, 0.303, 0.351, 0.325, 0.325, 0.361,\n",
    "         0.375, 0.341, 0.383, 0.328, 0.3, 0.277, 0.359, 0.358, 0.381, 0.324,\n",
    "         0.293, 0.324, 0.329, 0.294, 0.32, 0.361, 0.347, 0.317, 0.316, 0.342,\n",
    "         0.368, 0.319, 0.317, 0.302, 0.321, 0.336, 0.347, 0.279, 0.309, 0.358,\n",
    "         0.318, 0.342, 0.299, 0.332, 0.349, 0.387, 0.335, 0.358, 0.312, 0.307,\n",
    "         0.28, 0.344, 0.314, 0.24, 0.331, 0.357, 0.346, 0.351, 0.293, 0.308,\n",
    "         0.374, 0.362, 0.294, 0.314, 0.374, 0.315, 0.324, 0.382, 0.353, 0.305,\n",
    "         0.338, 0.366, 0.357, 0.326, 0.332, 0.323, 0.306, 0.31, 0.31, 0.333,\n",
    "         0.34, 0.4, 0.389, 0.308, 0.411, 0.278, 0.326, 0.335, 0.316, 0.371,\n",
    "         0.314, 0.384, 0.379, 0.32, 0.395, 0.347, 0.307, 0.326, 0.316, 0.341,\n",
    "         0.308, 0.327, 0.337, 0.36, 0.32, 0.372, 0.306, 0.305, 0.347, 0.281,\n",
    "         0.281, 0.296, 0.306, 0.343, 0.378, 0.393, 0.337, 0.327, 0.336, 0.32,\n",
    "         0.381, 0.306, 0.358, 0.311, 0.284, 0.364, 0.315, 0.342, 0.367, 0.307,\n",
    "         0.351, 0.372, 0.304, 0.296, 0.332, 0.312, 0.437, 0.295, 0.316, 0.298,\n",
    "         0.302, 0.342, 0.364, 0.304, 0.295, 0.305, 0.359, 0.335, 0.338, 0.341,\n",
    "         0.3, 0.378, 0.412, 0.273, 0.308, 0.309, 0.263, 0.291, 0.359, 0.352,\n",
    "         0.262, 0.274, 0.334, 0.343, 0.267, 0.321, 0.3, 0.327, 0.313, 0.316,\n",
    "         0.337, 0.268, 0.342, 0.292, 0.39, 0.332, 0.315, 0.298, 0.298, 0.331,\n",
    "         0.361, 0.272, 0.287, 0.34, 0.317, 0.327, 0.354, 0.317, 0.311, 0.174,\n",
    "         0.302, 0.302, 0.291, 0.29, 0.268, 0.352, 0.341, 0.265, 0.307, 0.36,\n",
    "         0.305, 0.254, 0.279, 0.321, 0.305, 0.35, 0.308, 0.326, 0.219, 0.23,\n",
    "         0.322, 0.405, 0.321, 0.291, 0.312, 0.357, 0.324]\n",
    "\n",
    "df = pd.DataFrame({'medio': medios, 'crecimiento': crecimiento})\n",
    "df['medio'] = df['medio'].astype(str)\n"
   ]
  },
  {
   "cell_type": "code",
   "execution_count": 46,
   "metadata": {},
   "outputs": [
    {
     "name": "stdout",
     "output_type": "stream",
     "text": [
      "OF\n",
      "DH\n",
      "IF\n",
      "C\n"
     ]
    }
   ],
   "source": [
    "medios_de_cultivo = set(medios)\n",
    "[print(medio) for medio in medios_de_cultivo];"
   ]
  },
  {
   "cell_type": "code",
   "execution_count": 47,
   "metadata": {},
   "outputs": [
    {
     "data": {
      "text/plain": [
       "{'OF': 0, 'DH': 1, 'IF': 2, 'C': 3}"
      ]
     },
     "execution_count": 47,
     "metadata": {},
     "output_type": "execute_result"
    }
   ],
   "source": [
    "indices_medios_fijos = {v : k for k,v in enumerate(medios_de_cultivo)}\n",
    "indices_medios_fijos"
   ]
  },
  {
   "cell_type": "code",
   "execution_count": 48,
   "metadata": {},
   "outputs": [],
   "source": [
    "datos_refinados = [df['crecimiento'][df['medio'] == medio] for medio in medios_de_cultivo]"
   ]
  },
  {
   "cell_type": "code",
   "execution_count": 49,
   "metadata": {},
   "outputs": [],
   "source": [
    "datos_medio_C  = datos_refinados[indices_medios_fijos['C']]\n",
    "datos_medio_DH = datos_refinados[indices_medios_fijos['DH']]\n",
    "datos_medio_IF = datos_refinados[indices_medios_fijos['IF']]\n",
    "datos_medio_OF = datos_refinados[indices_medios_fijos['OF']]"
   ]
  },
  {
   "cell_type": "markdown",
   "metadata": {},
   "source": [
    "Kolmogorov Smirnov asume que $H_{0}$ sigue una distribución normal y $H_{1}$ es diferente de una distribución normal.\n",
    "$ \\alpha = 0.05 $"
   ]
  },
  {
   "cell_type": "code",
   "execution_count": 56,
   "metadata": {},
   "outputs": [
    {
     "name": "stdout",
     "output_type": "stream",
     "text": [
      "\n",
      "\n",
      "Medio C\n",
      "--------------------------------------------------------------------------------\n",
      "cantidad de datos: 39\n",
      "ShapiroResult(statistic=0.9883718490600586, pvalue=0.9529566764831543)\n",
      "KstestResult(statistic=0.20142508730447833, pvalue=0.07296094695749022)\n",
      "KstestResult(statistic=0.1794871794871795, pvalue=0.562189184580869)\n",
      "\n",
      "\n",
      "Medio DH\n",
      "--------------------------------------------------------------------------------\n",
      "cantidad de datos: 14\n",
      "ShapiroResult(statistic=0.9104318618774414, pvalue=0.15987786650657654)\n",
      "KstestResult(statistic=0.13661037274777255, pvalue=0.9247092753397033)\n",
      "KstestResult(statistic=0.14285714285714285, pvalue=0.9995915905136527)\n",
      "\n",
      "\n",
      "Medio IF\n",
      "--------------------------------------------------------------------------------\n",
      "cantidad de datos: 154\n",
      "ShapiroResult(statistic=0.9937283992767334, pvalue=0.7466627359390259)\n",
      "KstestResult(statistic=0.09854287526239114, pvalue=0.09387065708364606)\n",
      "KstestResult(statistic=0.08441558441558442, pvalue=0.6444334143870218)\n",
      "\n",
      "\n",
      "Medio OF\n",
      "--------------------------------------------------------------------------------\n",
      "cantidad de datos: 120\n",
      "ShapiroResult(statistic=0.9938962459564209, pvalue=0.8834102153778076)\n",
      "KstestResult(statistic=0.07546024962039544, pvalue=0.47848751339934636)\n",
      "KstestResult(statistic=0.09166666666666666, pvalue=0.6966800040199376)\n"
     ]
    },
    {
     "data": {
      "image/png": "[encoded data removed]",
      "text/plain": [
       "<Figure size 1000x700 with 4 Axes>"
      ]
     },
     "metadata": {},
     "output_type": "display_data"
    }
   ],
   "source": [
    "fig, ([ax1, ax2], [ax3, ax4]) = plt.subplots(2, 2, figsize=(10, 7))\n",
    "ax_arr = [ax1, ax2, ax3, ax4]\n",
    "\n",
    "indices = [f'{v}' for k,v in enumerate(['Medio C', 'Medio DH', 'Medio IF', 'Medio OF'])];\n",
    "medios_arr_df = [datos_medio_C, datos_medio_DH, datos_medio_IF, datos_medio_OF]\n",
    "for i in range(len(medios_arr_df)):\n",
    "\n",
    "    # Stats code\n",
    "    NormMean    = stat.mean(medios_arr_df[i].values)\n",
    "    DEMean      = stat.stdev(medios_arr_df[i].values)\n",
    "    NormNum     = np.random.normal(loc=NormMean, scale=DEMean, size=len(medios_arr_df[i]))\n",
    "    NormNumstd  = (NormNum - NormMean)/DEMean\n",
    "    \n",
    "    # Plots\n",
    "    ax_arr[i].set_title(f'{indices[i]}')\n",
    "    ax_arr[i].hist(medios_arr_df[i].values , label=f'{indices[i]}', color='red', density=True, histtype='stepfilled', ec=\"k\", alpha=0.5)\n",
    "    ax_arr[i].hist(NormNum , label= 'Distribución normal' , color='blue' , density=True, histtype='stepfilled', ec=\"k\", alpha=0.5)\n",
    "    ax_arr[i].legend(loc=5)\n",
    "    \n",
    "    # Additional data\n",
    "    print('\\n')\n",
    "    print(indices[i])\n",
    "    print('----'*20)\n",
    "    print(f'cantidad de datos: {len(medios_arr_df[i])}')\n",
    "    print(stats.shapiro(NormNum))\n",
    "    print(stats.kstest(NormNumstd, stats.norm.cdf))\n",
    "    print(stats.kstest(medios_arr_df[i].values, NormNum))\n",
    "    \n",
    "plt.savefig('Normalidad.jpg', dpi=1400)"
   ]
  },
  {
   "cell_type": "code",
   "execution_count": 51,
   "metadata": {},
   "outputs": [
    {
     "name": "stdout",
     "output_type": "stream",
     "text": [
      "LeveneResult(statistic=2.6056585191080575, pvalue=0.051799415350941756)\n"
     ]
    }
   ],
   "source": [
    "C=datos_medio_C.values\n",
    "DH=datos_medio_DH.values\n",
    "IF=datos_medio_IF.values\n",
    "OF=datos_medio_OF.values\n",
    "print(stats.levene(C,DH,IF,OF))"
   ]
  },
  {
   "cell_type": "code",
   "execution_count": 52,
   "metadata": {},
   "outputs": [
    {
     "name": "stdout",
     "output_type": "stream",
     "text": [
      "F_onewayResult(statistic=1.9943493236653966, pvalue=0.11469284995432892)\n"
     ]
    }
   ],
   "source": [
    "print(stats.f_oneway(C,DH,IF,OF))"
   ]
  },
  {
   "cell_type": "code",
   "execution_count": 53,
   "metadata": {},
   "outputs": [
    {
     "name": "stdout",
     "output_type": "stream",
     "text": [
      "KruskalResult(statistic=5.230635170645446, pvalue=0.155667227323218)\n"
     ]
    }
   ],
   "source": [
    "print(stats.kruskal(C,DH,IF,OF))"
   ]
  },
  {
   "cell_type": "code",
   "execution_count": 54,
   "metadata": {},
   "outputs": [
    {
     "data": {
      "text/plain": [
       "array([2.        , 0.66666667])"
      ]
     },
     "execution_count": 54,
     "metadata": {},
     "output_type": "execute_result"
    }
   ],
   "source": [
    "np.mean(np.array([[1, 2, 3], [0, 1, 1]]), axis=1)"
   ]
  },
  {
   "cell_type": "code",
   "execution_count": 55,
   "metadata": {},
   "outputs": [
    {
     "name": "stdout",
     "output_type": "stream",
     "text": [
      "Multiple Comparison of Means - Tukey HSD, FWER=0.05\n",
      "===================================================\n",
      "group1 group2 meandiff p-adj   lower  upper  reject\n",
      "---------------------------------------------------\n",
      "     C     DH   0.0252 0.1065 -0.0034 0.0538  False\n",
      "     C     IF   0.0089 0.5011 -0.0075 0.0254  False\n",
      "     C     OF   0.0116 0.2868 -0.0053 0.0286  False\n",
      "    DH     IF  -0.0163 0.3582 -0.0419 0.0094  False\n",
      "    DH     OF  -0.0135 0.5327 -0.0395 0.0124  False\n",
      "    IF     OF   0.0027 0.9225 -0.0085 0.0139  False\n",
      "---------------------------------------------------\n"
     ]
    }
   ],
   "source": [
    "from scipy.stats  import f_oneway\n",
    "from statsmodels.stats.multicomp import pairwise_tukeyhsd\n",
    "\n",
    "tukey = pairwise_tukeyhsd(df['crecimiento'], df['medio'], alpha=0.05)\n",
    "print(tukey)"
   ]
  }
 ],
 "metadata": {
  "kernelspec": {
   "display_name": "Python 3 (ipykernel)",
   "language": "python",
   "name": "python3"
  },
  "language_info": {
   "codemirror_mode": {
    "name": "ipython",
    "version": 3
   },
   "file_extension": ".py",
   "mimetype": "text/x-python",
   "name": "python",
   "nbconvert_exporter": "python",
   "pygments_lexer": "ipython3",
   "version": "3.10.6"
  },
  "vscode": {
   "interpreter": {
    "hash": "916dbcbb3f70747c44a77c7bcd40155683ae19c65e1c03b4aa3499c5328201f1"
   }
  }
 },
 "nbformat": 4,
 "nbformat_minor": 2
}
