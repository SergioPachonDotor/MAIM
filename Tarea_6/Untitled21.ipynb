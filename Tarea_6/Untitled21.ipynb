{
 "cells": [
  {
   "cell_type": "code",
   "execution_count": null,
   "metadata": {
    "colab": {
     "base_uri": "https://localhost:8080/"
    },
    "id": "7IQ5kOnW2YF-",
    "outputId": "d9377e87-abd6-4f5d-abb9-bffdb236053c"
   },
   "outputs": [
    {
     "name": "stdout",
     "output_type": "stream",
     "text": [
      "ShapiroResult(statistic=0.952366054058075, pvalue=0.674299418926239)\n",
      "one-sample t-test pval 0.9909313824119471\n",
      "one-sample wilcoxon-test pval 0.0244140625\n"
     ]
    }
   ],
   "source": [
    "# Mathieu Blondel, February 2012\n",
    "# License: BSD 3 clause\n",
    "\n",
    "# Port to Python of examples in chapter 5 of\n",
    "# \"Introductory Statistics with R\" by Peter Dalgaard\n",
    "\n",
    "import numpy as np\n",
    "import scipy.stats as stats\n",
    "\n",
    "# daily intake of energy in kJ for 11 women\n",
    "daily_intake = np.array([5260,5470,5640,6180,6390,6515,\n",
    "                         6805,7515,7515,8230,8770])\n",
    "#test normalidad\n",
    "print(stats.shapiro(daily_intake))\n",
    "\n",
    "# one sample t-test\n",
    "# null hypothesis: expected value = 7725\n",
    "t_statistic, p_value = stats.ttest_1samp(daily_intake, 7725,alternative='two-sided')\n",
    "t_statistic, p_value = stats.ttest_1samp(daily_intake, 7725,alternative='less')\n",
    "t_statistic, p_value = stats.ttest_1samp(daily_intake, 7725,alternative='greater')\n",
    "# p_value < 0.05 => alternative hypothesis:\n",
    "# data deviate significantly from the hypothesis that the mean\n",
    "# is 7725 at the 5% level of significance\n",
    "print(\"one-sample t-test pval\", p_value)\n",
    "\n",
    "\n",
    "\n",
    "\n",
    "# one sample wilcoxon-test\n",
    "z_statistic, p_value = stats.wilcoxon(daily_intake - 7725)\n",
    "print(\"one-sample wilcoxon-test pval\", p_value)\n"
   ]
  },
  {
   "cell_type": "code",
   "execution_count": null,
   "metadata": {
    "colab": {
     "base_uri": "https://localhost:8080/"
    },
    "id": "v_n1Iqya3dgA",
    "outputId": "c93eef7b-1725-4953-c265-137e8643e5b9"
   },
   "outputs": [
    {
     "name": "stdout",
     "output_type": "stream",
     "text": [
      "ShapiroResult(statistic=0.8673301935195923, pvalue=0.048183370381593704)\n",
      "LeveneResult(statistic=0.26770858376245593, pvalue=0.6105485798476267)\n",
      "two-sample t-test 0.0007989982111700593\n",
      "two-sample wilcoxon-test 0.002121613385880049\n"
     ]
    }
   ],
   "source": [
    "energ = np.array([\n",
    "# energy expenditure in mJ and stature (0=obese, 1=lean)\n",
    "[9.21, 0],\n",
    "[7.53, 1],\n",
    "[7.48, 1],\n",
    "[8.08, 1],\n",
    "[8.09, 1],\n",
    "[10.15, 1],\n",
    "[8.40, 1],\n",
    "[10.88, 1],\n",
    "[6.13, 1],\n",
    "[7.90, 1],\n",
    "[11.51, 0],\n",
    "[12.79, 0],\n",
    "[7.05, 1],\n",
    "[11.85, 0],\n",
    "[9.97, 0],\n",
    "[7.48, 1],\n",
    "[8.79, 0],\n",
    "[9.69, 0],\n",
    "[9.68, 0],\n",
    "[7.58, 1],\n",
    "[9.19, 0],\n",
    "[8.11, 1]])\n",
    "\n",
    "# similar to expend ~ stature in R\n",
    "group1 = energ[:, 1] == 0\n",
    "group1 = energ[group1][:, 0]\n",
    "group2 = energ[:, 1] == 1\n",
    "group2 = energ[group2][:, 0]\n",
    "\n",
    "print(stats.shapiro(group2))\n",
    "print(stats.levene(group1,group2))\n",
    "# two-sample t-test\n",
    "# null hypothesis: the two groups have the same mean\n",
    "# this test assumes the two groups have the same variance...\n",
    "# (can be checked with tests for equal variance)\n",
    "# independent groups: e.g., how boys and girls fare at an exam\n",
    "# dependent groups: e.g., how the same class fare at 2 different exams\n",
    "t_statistic, p_value = stats.ttest_ind(group1, group2)\n",
    "\n",
    "# p_value < 0.05 => alternative hypothesis:\n",
    "# they don't have the same mean at the 5% significance level\n",
    "print(\"two-sample t-test\", p_value)\n",
    "\n",
    "# two-sample wilcoxon test\n",
    "# a.k.a Mann Whitney U\n",
    "u, p_value = stats.mannwhitneyu(group1, group2)\n",
    "print(\"two-sample wilcoxon-test\", p_value)"
   ]
  },
  {
   "cell_type": "code",
   "execution_count": null,
   "metadata": {
    "colab": {
     "base_uri": "https://localhost:8080/"
    },
    "id": "dFHp51Lv6QmW",
    "outputId": "16d2b331-f125-481c-8ea9-bd44c3afbc5f"
   },
   "outputs": [
    {
     "name": "stdout",
     "output_type": "stream",
     "text": [
      "paired t-test 3.059020942934875e-07\n",
      "paired wilcoxon-test 0.0009765625\n"
     ]
    }
   ],
   "source": [
    "# pre and post-menstrual energy intake\n",
    "intake = np.array([\n",
    "[5260, 3910],\n",
    "[5470, 4220],\n",
    "[5640, 3885],\n",
    "[6180, 5160],\n",
    "[6390, 5645],\n",
    "[6515, 4680],\n",
    "[6805, 5265],\n",
    "[7515, 5975],\n",
    "[7515, 6790],\n",
    "[8230, 6900],\n",
    "[8770, 7335],\n",
    "])\n",
    "\n",
    "pre = intake[:, 0]\n",
    "post = intake[:, 1]\n",
    "\n",
    "# paired t-test: doing two measurments on the same experimental unit\n",
    "# e.g., before and after a treatment\n",
    "t_statistic, p_value = stats.ttest_1samp(post - pre, 0)\n",
    "\n",
    "# p < 0.05 => alternative hypothesis:\n",
    "# the difference in mean is not equal to 0\n",
    "print(\"paired t-test\", p_value)\n",
    "\n",
    "# alternative to paired t-test when data has an ordinary scale or when not\n",
    "# normally distributed\n",
    "z_statistic, p_value = stats.wilcoxon(post - pre)\n",
    "\n",
    "print(\"paired wilcoxon-test\", p_value)"
   ]
  },
  {
   "cell_type": "code",
   "execution_count": null,
   "metadata": {
    "colab": {
     "base_uri": "https://localhost:8080/"
    },
    "id": "mEtJ_L_w3tfe",
    "outputId": "d2b29d38-3e47-48dc-96a2-e7e8d7969c51"
   },
   "outputs": [
    {
     "name": "stdout",
     "output_type": "stream",
     "text": [
      "ShapiroResult(statistic=0.7938330173492432, pvalue=0.07211019843816757)\n",
      "LeveneResult(statistic=0.6666666666666667, pvalue=0.5846671108816857)\n",
      "F_onewayResult(statistic=4.625000000000002, pvalue=0.016336459839780215)\n",
      "KruskalResult(statistic=7.655453149001545, pvalue=0.05369589233558365)\n"
     ]
    }
   ],
   "source": [
    "\n",
    "performance1 = [89, 89, 88, 78, 79]\n",
    "performance2 = [93, 92, 94, 89, 88]\n",
    "performance3 = [89, 88, 89, 93, 90]\n",
    "performance4 = [81, 78, 81, 92, 82]\n",
    "\n",
    "print(stats.shapiro(performance4))\n",
    "print(stats.levene(performance1,performance2,performance3,performance4))\n",
    "\n",
    "print(stats.f_oneway(performance1, performance2, performance3, performance4))\n",
    "print(stats.kruskal(performance1,performance2,performance3,performance4))\n"
   ]
  }
 ],
 "metadata": {
  "colab": {
   "provenance": []
  },
  "kernelspec": {
   "display_name": "Python 3.10.6 64-bit",
   "language": "python",
   "name": "python3"
  },
  "language_info": {
   "codemirror_mode": {
    "name": "ipython",
    "version": 3
   },
   "file_extension": ".py",
   "mimetype": "text/x-python",
   "name": "python",
   "nbconvert_exporter": "python",
   "pygments_lexer": "ipython3",
   "version": "3.10.6"
  },
  "vscode": {
   "interpreter": {
    "hash": "916dbcbb3f70747c44a77c7bcd40155683ae19c65e1c03b4aa3499c5328201f1"
   }
  }
 },
 "nbformat": 4,
 "nbformat_minor": 1
}
