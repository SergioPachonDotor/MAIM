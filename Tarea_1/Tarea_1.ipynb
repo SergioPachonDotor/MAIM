{
 "cells": [
  {
   "cell_type": "code",
   "execution_count": 2,
   "metadata": {},
   "outputs": [],
   "source": [
    "import numpy as np\n",
    "import sympy as sym\n",
    "import matplotlib.pyplot as plt"
   ]
  },
  {
   "cell_type": "markdown",
   "metadata": {},
   "source": [
    "##### Sistema de ecuaciones\n",
    "\n",
    "$$\n",
    "\\frac{dy}{dt} = -k_{a}y,\\hspace{5mm}k_{a} > 0\n",
    "$$\n",
    "\n",
    "$$\n",
    "\\frac{dx}{dt} = \\frac{-k_{a}}{V}y - k_{e}x, \\hspace{5mm} k_{e} > 0\n",
    "$$\n"
   ]
  },
  {
   "cell_type": "markdown",
   "metadata": {},
   "source": [
    "$$\n",
    "\\frac{dz}{dt} = pz(1 - z) - \\alpha xz\n",
    "$$"
   ]
  },
  {
   "cell_type": "markdown",
   "metadata": {},
   "source": [
    "$$\n",
    "x(t) = \\frac{dk_{a}}{V(k_{a}-k_{e})}(e^{-k_{e}t} - e^{-k_{a}t})\n",
    "$$"
   ]
  },
  {
   "cell_type": "markdown",
   "metadata": {},
   "source": [
    "$$\n",
    "- x:    \\\\\n",
    "- y:        \\\\\n",
    "- z:        \\\\\n",
    "- k_{a}:    \\\\\n",
    "- k_{e}:    \\\\\n",
    "- V:        \\\\\n",
    "- t:        \\\\\n",
    "- \\alpha:   \\\\\n",
    "- p:        \\\\\n",
    "$$ "
   ]
  },
  {
   "cell_type": "code",
   "execution_count": 3,
   "metadata": {},
   "outputs": [],
   "source": [
    "x, y, z, ka, ke, V, t, α, p = sym.symbols('x y z k_a k_e V t alpha p')"
   ]
  },
  {
   "cell_type": "code",
   "execution_count": 4,
   "metadata": {},
   "outputs": [],
   "source": [
    "y = sym.Function('y')\n",
    "x = sym.Function('x')\n",
    "z = sym.Function('z')\n",
    "\n",
    "dydt = sym.Eq(sym.Derivative(y(t), t), - ka * y(t))\n",
    "dxdt = sym.Eq(sym.Derivative(x(t), t), (ka/V)*y(t) - ke*x(t))\n",
    "dzdt = sym.Eq(sym.Derivative(z(t), t), p*z(t)*(1 - z(t))-α*x(t)*z(t))"
   ]
  },
  {
   "cell_type": "code",
   "execution_count": 5,
   "metadata": {},
   "outputs": [
    {
     "data": {
      "text/latex": [
       "$\\displaystyle y{\\left(t \\right)} = C_{1} e^{- k_{a} t}$"
      ],
      "text/plain": [
       "Eq(y(t), C1*exp(-k_a*t))"
      ]
     },
     "execution_count": 5,
     "metadata": {},
     "output_type": "execute_result"
    }
   ],
   "source": [
    "# dydt = sym.Eq(sym.Derivative(y(t), y(t)), - ka * t)\n",
    "sym.dsolve(dydt, y(t))"
   ]
  },
  {
   "cell_type": "code",
   "execution_count": 6,
   "metadata": {},
   "outputs": [
    {
     "name": "stderr",
     "output_type": "stream",
     "text": [
      "/home/massive_wave/.local/lib/python3.8/site-packages/sympy/integrals/integrals.py:1563: SymPyDeprecationWarning: \n",
      "\n",
      "Creating a indefinite integral with an Eq() argument is\n",
      "deprecated.\n",
      "\n",
      "This is because indefinite integrals do not preserve equality\n",
      "due to the arbitrary constants. If you want an equality of\n",
      "indefinite integrals, use Eq(Integral(a, x), Integral(b, x))\n",
      "explicitly.\n",
      "\n",
      "See https://docs.sympy.org/latest/explanation/active-deprecations.html#deprecated-indefinite-integral-eq\n",
      "for details.\n",
      "\n",
      "This has been deprecated since SymPy version 1.6. It\n",
      "will be removed in a future version of SymPy.\n",
      "\n",
      "  integral = Integral(*args, **kwargs)\n"
     ]
    },
    {
     "data": {
      "text/latex": [
       "$\\displaystyle x{\\left(t \\right)} \\frac{d}{d t} x{\\left(t \\right)} = - \\frac{k_{e} x^{2}{\\left(t \\right)}}{2} + \\frac{k_{a} x{\\left(t \\right)} y{\\left(t \\right)}}{V}$"
      ],
      "text/plain": [
       "Eq(x(t)*Derivative(x(t), t), -k_e*x(t)**2/2 + k_a*x(t)*y(t)/V)"
      ]
     },
     "execution_count": 6,
     "metadata": {},
     "output_type": "execute_result"
    }
   ],
   "source": [
    "sym.integrate(dxdt, x(t))"
   ]
  },
  {
   "cell_type": "code",
   "execution_count": 31,
   "metadata": {},
   "outputs": [],
   "source": [
    "ysol = sym.dsolve(dydt, y(t))\n",
    "xsol = sym.dsolve(dxdt, x(t), simplify=True)\n",
    "zsol = sym.dsolve(dzdt, z(t))"
   ]
  },
  {
   "cell_type": "code",
   "execution_count": 32,
   "metadata": {},
   "outputs": [
    {
     "data": {
      "text/latex": [
       "$\\displaystyle y{\\left(t \\right)} = C_{1} e^{- k_{a} t}$"
      ],
      "text/plain": [
       "Eq(y(t), C1*exp(-k_a*t))"
      ]
     },
     "execution_count": 32,
     "metadata": {},
     "output_type": "execute_result"
    }
   ],
   "source": [
    "ysol"
   ]
  },
  {
   "cell_type": "code",
   "execution_count": 33,
   "metadata": {},
   "outputs": [
    {
     "data": {
      "text/latex": [
       "$\\displaystyle \\frac{V k_{e} \\int x{\\left(t \\right)} e^{k_{e} t}\\, dt - k_{a} \\int y{\\left(t \\right)} e^{k_{e} t}\\, dt}{V} = C_{1}$"
      ],
      "text/plain": [
       "Eq((V*k_e*Integral(x(t)*exp(k_e*t), t) - k_a*Integral(y(t)*exp(k_e*t), t))/V, C1)"
      ]
     },
     "execution_count": 33,
     "metadata": {},
     "output_type": "execute_result"
    }
   ],
   "source": [
    "xsol"
   ]
  },
  {
   "cell_type": "code",
   "execution_count": 34,
   "metadata": {},
   "outputs": [
    {
     "data": {
      "text/latex": [
       "$\\displaystyle z{\\left(t \\right)} = \\frac{\\left(e^{- \\alpha \\int x{\\left(t \\right)}\\, dt}\\right) e^{p t}}{C_{1} + p \\int \\left(e^{- \\alpha \\int x{\\left(t \\right)}\\, dt}\\right) e^{p t}\\, dt}$"
      ],
      "text/plain": [
       "Eq(z(t), exp(-alpha*Integral(x(t), t))*exp(p*t)/(C1 + p*Integral(exp(-alpha*Integral(x(t), t))*exp(p*t), t)))"
      ]
     },
     "execution_count": 34,
     "metadata": {},
     "output_type": "execute_result"
    }
   ],
   "source": [
    "zsol"
   ]
  }
 ],
 "metadata": {
  "kernelspec": {
   "display_name": "Python 3.8.10 64-bit",
   "language": "python",
   "name": "python3"
  },
  "language_info": {
   "codemirror_mode": {
    "name": "ipython",
    "version": 3
   },
   "file_extension": ".py",
   "mimetype": "text/x-python",
   "name": "python",
   "nbconvert_exporter": "python",
   "pygments_lexer": "ipython3",
   "version": "3.8.10"
  },
  "orig_nbformat": 4,
  "vscode": {
   "interpreter": {
    "hash": "916dbcbb3f70747c44a77c7bcd40155683ae19c65e1c03b4aa3499c5328201f1"
   }
  }
 },
 "nbformat": 4,
 "nbformat_minor": 2
}
