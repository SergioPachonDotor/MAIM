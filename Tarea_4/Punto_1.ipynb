{
 "cells": [
  {
   "cell_type": "code",
   "execution_count": 2304,
   "metadata": {},
   "outputs": [],
   "source": [
    "import numpy as np\n",
    "import sympy as sym\n",
    "from sympy import oo\n",
    "import matplotlib.pyplot as plt\n",
    "from scipy.integrate import odeint"
   ]
  },
  {
   "cell_type": "code",
   "execution_count": 2305,
   "metadata": {},
   "outputs": [],
   "source": [
    "α, γ, k, μ, C, I = sym.symbols('α, γ, k, μ, C, I')\n",
    "\n",
    "dCdt = α*C - (k*C*I) + γ*I\n",
    "dIdt = (k*C*I) - γ*I - μ*I"
   ]
  },
  {
   "cell_type": "code",
   "execution_count": 2306,
   "metadata": {},
   "outputs": [
    {
     "data": {
      "text/latex": [
       "$\\displaystyle - C I k + C α + I γ$"
      ],
      "text/plain": [
       "-C*I*k + C*α + I*γ"
      ]
     },
     "execution_count": 2306,
     "metadata": {},
     "output_type": "execute_result"
    }
   ],
   "source": [
    "dCdt"
   ]
  },
  {
   "cell_type": "code",
   "execution_count": 2307,
   "metadata": {},
   "outputs": [
    {
     "data": {
      "text/latex": [
       "$\\displaystyle C I k - I γ - I μ$"
      ],
      "text/plain": [
       "C*I*k - I*γ - I*μ"
      ]
     },
     "execution_count": 2307,
     "metadata": {},
     "output_type": "execute_result"
    }
   ],
   "source": [
    "dIdt"
   ]
  },
  {
   "cell_type": "code",
   "execution_count": 2308,
   "metadata": {},
   "outputs": [
    {
     "data": {
      "text/plain": [
       "[(0, 0), ((γ + μ)/k, α*(γ + μ)/(k*μ))]"
      ]
     },
     "execution_count": 2308,
     "metadata": {},
     "output_type": "execute_result"
    }
   ],
   "source": [
    "eqs = sym.solve([dCdt, dIdt], [C, I])\n",
    "eqs"
   ]
  },
  {
   "cell_type": "code",
   "execution_count": 2309,
   "metadata": {},
   "outputs": [
    {
     "data": {
      "text/latex": [
       "$\\displaystyle \\frac{γ + μ}{k}$"
      ],
      "text/plain": [
       "(γ + μ)/k"
      ]
     },
     "execution_count": 2309,
     "metadata": {},
     "output_type": "execute_result"
    }
   ],
   "source": [
    "eqs[1][0]"
   ]
  },
  {
   "cell_type": "code",
   "execution_count": 2310,
   "metadata": {},
   "outputs": [
    {
     "data": {
      "text/latex": [
       "$\\displaystyle \\frac{α \\left(γ + μ\\right)}{k μ}$"
      ],
      "text/plain": [
       "α*(γ + μ)/(k*μ)"
      ]
     },
     "execution_count": 2310,
     "metadata": {},
     "output_type": "execute_result"
    }
   ],
   "source": [
    "eqs[1][1]"
   ]
  },
  {
   "cell_type": "code",
   "execution_count": 2311,
   "metadata": {},
   "outputs": [
    {
     "data": {
      "text/latex": [
       "$\\displaystyle \\left[\\begin{matrix}- C I k + C α + I γ\\\\C I k - I γ - I μ\\end{matrix}\\right]$"
      ],
      "text/plain": [
       "Matrix([\n",
       "[-C*I*k + C*α + I*γ],\n",
       "[ C*I*k - I*γ - I*μ]])"
      ]
     },
     "execution_count": 2311,
     "metadata": {},
     "output_type": "execute_result"
    }
   ],
   "source": [
    "Meq=sym.Matrix([dCdt,dIdt])\n",
    "Meq"
   ]
  },
  {
   "cell_type": "code",
   "execution_count": 2312,
   "metadata": {},
   "outputs": [
    {
     "data": {
      "text/latex": [
       "$\\displaystyle \\left[\\begin{matrix}C\\\\I\\end{matrix}\\right]$"
      ],
      "text/plain": [
       "Matrix([\n",
       "[C],\n",
       "[I]])"
      ]
     },
     "execution_count": 2312,
     "metadata": {},
     "output_type": "execute_result"
    }
   ],
   "source": [
    "Mvar=sym.Matrix([C, I])\n",
    "Mvar"
   ]
  },
  {
   "cell_type": "code",
   "execution_count": 2313,
   "metadata": {},
   "outputs": [
    {
     "data": {
      "text/latex": [
       "$\\displaystyle \\left[\\begin{matrix}- I k + α & - C k + γ\\\\I k & C k - γ - μ\\end{matrix}\\right]$"
      ],
      "text/plain": [
       "Matrix([\n",
       "[-I*k + α,    -C*k + γ],\n",
       "[     I*k, C*k - γ - μ]])"
      ]
     },
     "execution_count": 2313,
     "metadata": {},
     "output_type": "execute_result"
    }
   ],
   "source": [
    "Jac=Meq.jacobian(Mvar)\n",
    "Jac"
   ]
  },
  {
   "cell_type": "code",
   "execution_count": 2314,
   "metadata": {},
   "outputs": [
    {
     "data": {
      "text/plain": [
       "[(0, 0), ((γ + μ)/k, α*(γ + μ)/(k*μ))]"
      ]
     },
     "execution_count": 2314,
     "metadata": {},
     "output_type": "execute_result"
    }
   ],
   "source": [
    "eqs"
   ]
  },
  {
   "cell_type": "code",
   "execution_count": 2315,
   "metadata": {},
   "outputs": [
    {
     "name": "stdout",
     "output_type": "stream",
     "text": [
      "C eq = 0\n",
      "I eq = 0\n",
      "Valor propio 1 = -γ - μ\n",
      "Valor propio 2 = α\n"
     ]
    }
   ],
   "source": [
    "inx_eq = 0\n",
    "Ceq=sym.simplify(eqs[inx_eq][0]) #SELECCIONAMOS, SOLS TIENE EN LA PRIMERA DIMENSION EL NUMERO DEL EQUILIBRIO, Y LA SEGUNDA ES PARA X Y PARA Y. \n",
    "Ieq=sym.simplify(eqs[inx_eq][1])\n",
    "print(f\"C eq = {Ceq}\")\n",
    "print(f\"I eq = {Ieq}\")\n",
    "\n",
    "Jaceq = Jac.subs(C,Ceq).subs(I,Ieq)\n",
    "eig = Jaceq.eigenvals()\n",
    "Eig = list(eig.keys())\n",
    "Eig1 = Eig[0]\n",
    "Eig2 = Eig[1]\n",
    "print(f\"Valor propio 1 = {sym.simplify(Eig1)}\")\n",
    "print(f\"Valor propio 2 = {sym.simplify(Eig2)}\")"
   ]
  },
  {
   "cell_type": "code",
   "execution_count": 2316,
   "metadata": {},
   "outputs": [
    {
     "name": "stdout",
     "output_type": "stream",
     "text": [
      "Equilibrio de Coexistencia\n",
      "Valor propio 1 = -3.0\n",
      "Valor propio 2 = -1.0\n"
     ]
    }
   ],
   "source": [
    "# Parámetros\n",
    "\n",
    "α = 2 # 1/hora *\n",
    "γ = 1 # 1/hora (0.81 - 2) ; (Oscila con valores < 0.8) -> 560 = Caos; 565 rango máximo\n",
    "k = 0.00001 # 1/hora \n",
    "μ = 0.5 # 1/hora *\n",
    "C0 = 100 # Cancer Inicial\n",
    "I0 = 1  # Cancer + Virus Inicial\n",
    "\n",
    "dt = 0.01\n",
    "tmax = 30\n",
    "steps = int(tmax/dt)\n",
    "\n",
    "def model(z, t):\n",
    "    C, I  = z\n",
    "    dCdt = α*C - (k*C*I) + γ*I\n",
    "    dIdt = (k*C*I) - γ*I - μ*I\n",
    "    return np.array([dCdt, dIdt])\n",
    "\n",
    "t = np.linspace(0,tmax, steps)\n",
    "c0 = np.array([C0, I0])\n",
    "\n",
    "sol = odeint(model,c0,t)  # Solución del sistema\n",
    "solC = sol[:,0]\n",
    "solI = sol[:,1]\n",
    "\n",
    "print('Equilibrio de Coexistencia')\n",
    "print(f\"Valor propio 1 = {(-α*γ - np.sqrt(α*(α*γ**2 - 4*γ*μ**2 - 4*μ**3)))/(2*μ)}\")\n",
    "print(f\"Valor propio 2 = {(-α*γ + np.sqrt(α*(α*γ**2 - 4*γ*μ**2 - 4*μ**3)))/(2*μ)}\")"
   ]
  },
  {
   "cell_type": "code",
   "execution_count": 2317,
   "metadata": {},
   "outputs": [
    {
     "data": {
      "text/plain": [
       "150000.0"
      ]
     },
     "execution_count": 2317,
     "metadata": {},
     "output_type": "execute_result"
    }
   ],
   "source": [
    "# C\n",
    "(γ + μ)/k"
   ]
  },
  {
   "cell_type": "code",
   "execution_count": 2318,
   "metadata": {},
   "outputs": [
    {
     "data": {
      "text/plain": [
       "600000.0"
      ]
     },
     "execution_count": 2318,
     "metadata": {},
     "output_type": "execute_result"
    }
   ],
   "source": [
    "# I\n",
    "α*(γ + μ)/(k*μ)"
   ]
  },
  {
   "cell_type": "code",
   "execution_count": 2319,
   "metadata": {},
   "outputs": [
    {
     "data": {
      "text/plain": [
       "<matplotlib.legend.Legend at 0x7fc6a739cdf0>"
      ]
     },
     "execution_count": 2319,
     "metadata": {},
     "output_type": "execute_result"
    },
    {
     "data": {
      "image/png": "[encoded data removed]",
      "text/plain": [
       "<Figure size 640x480 with 1 Axes>"
      ]
     },
     "metadata": {},
     "output_type": "display_data"
    }
   ],
   "source": [
    "plt.plot(t, solC, color='red', label='The cancer')\n",
    "plt.plot(t, solI, color='blue', label='The cancer + virus')\n",
    "plt.legend(loc=5)\n",
    "# plt.yscale('log')\n",
    "# plt.xlim(400, 500)\n",
    "# plt.ylim(0, 0.5*1*10**6)"
   ]
  },
  {
   "cell_type": "code",
   "execution_count": 2320,
   "metadata": {},
   "outputs": [
    {
     "data": {
      "text/plain": [
       "<matplotlib.legend.Legend at 0x7fc71c5c0a30>"
      ]
     },
     "execution_count": 2320,
     "metadata": {},
     "output_type": "execute_result"
    },
    {
     "data": {
      "image/png": "[encoded data removed]",
      "text/plain": [
       "<Figure size 640x480 with 1 Axes>"
      ]
     },
     "metadata": {},
     "output_type": "display_data"
    }
   ],
   "source": [
    "# Parámetros\n",
    "\n",
    "α = 2 # 1/hora *\n",
    "γ = 1 # 1/hora (0.81 - 2) ; (Oscila con valores < 0.8) -> 560 = Caos; 565 rango máximo\n",
    "k = 0.00001 # 1/hora \n",
    "μ = 0.5 # 1/hora *\n",
    "C0 = 1 # Cancer Inicial\n",
    "I0 = 100  # Cancer + Virus Inicial\n",
    "\n",
    "dt = 0.01\n",
    "tmax = 30\n",
    "steps = int(tmax/dt)\n",
    "\n",
    "def model(z, t):\n",
    "    C, I  = z\n",
    "    dCdt = α*C - ((k*C*I)/(I + C))\n",
    "    dIdt = ((k*C*I)/ (I + C)) - μ*I\n",
    "    return np.array([dCdt, dIdt])\n",
    "\n",
    "t = np.linspace(0,tmax, steps)\n",
    "c0 = np.array([C0, I0])\n",
    "\n",
    "sol = odeint(model,c0,t)  # Solución del sistema\n",
    "solC = sol[:,0]\n",
    "solI = sol[:,1]\n",
    "plt.plot(t, solC, color='red', label='The cancer')\n",
    "plt.plot(t, solI, color='blue', label='The cancer + virus')\n",
    "plt.legend(loc=5)"
   ]
  }
 ],
 "metadata": {
  "language_info": {
   "name": "python"
  },
  "orig_nbformat": 4
 },
 "nbformat": 4,
 "nbformat_minor": 2
}
